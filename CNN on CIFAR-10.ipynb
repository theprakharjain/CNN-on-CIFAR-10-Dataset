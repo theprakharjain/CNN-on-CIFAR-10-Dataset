{
 "cells": [
  {
   "cell_type": "code",
   "execution_count": 1,
   "metadata": {},
   "outputs": [],
   "source": [
    "import numpy as np\n",
    "import pandas as pd\n",
    "\n",
    "import matplotlib.pyplot as plt\n",
    "%matplotlib inline"
   ]
  },
  {
   "cell_type": "code",
   "execution_count": 2,
   "metadata": {},
   "outputs": [],
   "source": [
    "# CIFAR-10 dataset is pre-existing in Keras.\n",
    "# Importing the CIFAR dataset\n",
    "\n",
    "from tensorflow.keras.datasets import cifar10"
   ]
  },
  {
   "cell_type": "markdown",
   "metadata": {},
   "source": [
    "## <font color=\"red\"> Image Data Pre-processing </font>"
   ]
  },
  {
   "cell_type": "code",
   "execution_count": 3,
   "metadata": {},
   "outputs": [
    {
     "name": "stdout",
     "output_type": "stream",
     "text": [
      "Downloading data from https://www.cs.toronto.edu/~kriz/cifar-10-python.tar.gz\n",
      "170500096/170498071 [==============================] - 60s 0us/step\n"
     ]
    }
   ],
   "source": [
    "# CIFAR dataset already exists in the form of train and test data of (50000,10000) images respectively\n",
    "# Have to use tuple unpacking to save the data in the data in the respective train and test datasets\n",
    "\n",
    "(X_train, y_train), (X_test, y_test) = cifar10.load_data()"
   ]
  },
  {
   "cell_type": "code",
   "execution_count": 4,
   "metadata": {},
   "outputs": [
    {
     "data": {
      "text/plain": [
       "(50000, 32, 32, 3)"
      ]
     },
     "execution_count": 4,
     "metadata": {},
     "output_type": "execute_result"
    }
   ],
   "source": [
    "# 50000 images of 32*32 pixels with 3 color channels\n",
    "X_train.shape"
   ]
  },
  {
   "cell_type": "code",
   "execution_count": 6,
   "metadata": {},
   "outputs": [
    {
     "data": {
      "text/plain": [
       "(10000, 32, 32, 3)"
      ]
     },
     "execution_count": 6,
     "metadata": {},
     "output_type": "execute_result"
    }
   ],
   "source": [
    "X_test.shape"
   ]
  },
  {
   "cell_type": "code",
   "execution_count": 7,
   "metadata": {},
   "outputs": [
    {
     "data": {
      "text/plain": [
       "(32, 32, 3)"
      ]
     },
     "execution_count": 7,
     "metadata": {},
     "output_type": "execute_result"
    }
   ],
   "source": [
    "# Getting single image dimensions\n",
    "single_img = X_train[0]\n",
    "single_img.shape"
   ]
  },
  {
   "cell_type": "code",
   "execution_count": 8,
   "metadata": {},
   "outputs": [
    {
     "data": {
      "text/plain": [
       "<matplotlib.image.AxesImage at 0x1e362ca4d08>"
      ]
     },
     "execution_count": 8,
     "metadata": {},
     "output_type": "execute_result"
    },
    {
     "data": {
      "image/png": "[encoded data removed]",
      "text/plain": [
       "<Figure size 432x288 with 1 Axes>"
      ]
     },
     "metadata": {
      "needs_background": "light"
     },
     "output_type": "display_data"
    }
   ],
   "source": [
    "# See single 2D image\n",
    "plt.imshow(single_img)"
   ]
  },
  {
   "cell_type": "code",
   "execution_count": 9,
   "metadata": {},
   "outputs": [
    {
     "data": {
      "text/plain": [
       "255"
      ]
     },
     "execution_count": 9,
     "metadata": {},
     "output_type": "execute_result"
    }
   ],
   "source": [
    "# Maximum Value of the single image\n",
    "single_img.max()"
   ]
  },
  {
   "cell_type": "code",
   "execution_count": 11,
   "metadata": {},
   "outputs": [],
   "source": [
    "# Now we need to do the scaling of the values only for the feature data\n",
    "# and as we already know that the images shall always be channeled between 0-255 range, even for the color images\n",
    "# so we can divide the feature data by 255 for performing the scaling\n",
    "\n",
    "X_train = X_train/255"
   ]
  },
  {
   "cell_type": "code",
   "execution_count": 10,
   "metadata": {},
   "outputs": [],
   "source": [
    "X_test = X_test/255"
   ]
  },
  {
   "cell_type": "code",
   "execution_count": 29,
   "metadata": {},
   "outputs": [
    {
     "data": {
      "text/plain": [
       "(50000, 32, 32, 3)"
      ]
     },
     "execution_count": 29,
     "metadata": {},
     "output_type": "execute_result"
    }
   ],
   "source": [
    "# As we can see the shape is still the same. We are only scaling the features.\n",
    "X_train.shape"
   ]
  },
  {
   "cell_type": "code",
   "execution_count": 14,
   "metadata": {},
   "outputs": [
    {
     "data": {
      "text/plain": [
       "1.0"
      ]
     },
     "execution_count": 14,
     "metadata": {},
     "output_type": "execute_result"
    }
   ],
   "source": [
    "X_test.max()"
   ]
  },
  {
   "cell_type": "code",
   "execution_count": 15,
   "metadata": {},
   "outputs": [
    {
     "data": {
      "text/plain": [
       "array([[6],\n",
       "       [9],\n",
       "       [9],\n",
       "       ...,\n",
       "       [9],\n",
       "       [1],\n",
       "       [1]], dtype=uint8)"
      ]
     },
     "execution_count": 15,
     "metadata": {},
     "output_type": "execute_result"
    }
   ],
   "source": [
    "# In the CIFAR-10 dataset the labels are the numbers.They represent the respective category of images\n",
    "y_train\n",
    "# We need to change the labels by dummy labels through one hot encoding as it is a multiclass classification problem"
   ]
  },
  {
   "cell_type": "code",
   "execution_count": 16,
   "metadata": {},
   "outputs": [],
   "source": [
    "# \"to_categorical\" method creates the dummy variables and is the inbuilt method in keras\n",
    "from tensorflow.keras.utils import to_categorical"
   ]
  },
  {
   "cell_type": "code",
   "execution_count": 17,
   "metadata": {},
   "outputs": [
    {
     "data": {
      "text/plain": [
       "(50000, 1)"
      ]
     },
     "execution_count": 17,
     "metadata": {},
     "output_type": "execute_result"
    }
   ],
   "source": [
    "# Current shape of y_train\n",
    "y_train.shape"
   ]
  },
  {
   "cell_type": "code",
   "execution_count": 18,
   "metadata": {},
   "outputs": [],
   "source": [
    "# Conversion of existing labels into dummy variables for training as well as test dataset\n",
    "y_cat_test = to_categorical(y_test, num_classes=10)"
   ]
  },
  {
   "cell_type": "code",
   "execution_count": 19,
   "metadata": {},
   "outputs": [],
   "source": [
    "y_cat_train = to_categorical(y_train, num_classes=10)"
   ]
  },
  {
   "cell_type": "code",
   "execution_count": 20,
   "metadata": {},
   "outputs": [
    {
     "data": {
      "text/plain": [
       "(50000, 10)"
      ]
     },
     "execution_count": 20,
     "metadata": {},
     "output_type": "execute_result"
    }
   ],
   "source": [
    "y_cat_train.shape"
   ]
  },
  {
   "cell_type": "code",
   "execution_count": 21,
   "metadata": {},
   "outputs": [
    {
     "data": {
      "text/plain": [
       "(10000, 10)"
      ]
     },
     "execution_count": 21,
     "metadata": {},
     "output_type": "execute_result"
    }
   ],
   "source": [
    "y_cat_test.shape"
   ]
  },
  {
   "cell_type": "code",
   "execution_count": null,
   "metadata": {},
   "outputs": [],
   "source": [
    "# Unlike MNIST dataset model creation No need of reshaping the images \n",
    "# as the data is not required to be converted in grayscale\n",
    "# We will work on the color pictures in this one"
   ]
  },
  {
   "cell_type": "markdown",
   "metadata": {},
   "source": [
    "## <font color=\"red\"> Creating and Training Model </font>"
   ]
  },
  {
   "cell_type": "code",
   "execution_count": 22,
   "metadata": {},
   "outputs": [],
   "source": [
    "# Importing the \"sequential Layer\". Its basiclly required for the Input Layer\n",
    "from tensorflow.keras.models import Sequential"
   ]
  },
  {
   "cell_type": "code",
   "execution_count": 23,
   "metadata": {},
   "outputs": [],
   "source": [
    "# Importing \"Dense\" for the input layers\n",
    "# Importing \"Conv2D\" for the Convulational Layers\n",
    "# Importing \"MaxPool2D\" for the Pooling Later\n",
    "# Importing \"Flatten\" for flattning out the images in to order to feed it to the last dense layer and perform the classifiaction\n",
    "\n",
    "from tensorflow.keras.layers import Dense,Conv2D,MaxPool2D,Flatten"
   ]
  },
  {
   "cell_type": "code",
   "execution_count": null,
   "metadata": {},
   "outputs": [],
   "source": [
    "# As the data of images is more complex (32*32*3 = 3072) in comparision to the MNIST dataset \n",
    "# So we'll make multiple convulational and pooling layers"
   ]
  },
  {
   "cell_type": "code",
   "execution_count": 24,
   "metadata": {},
   "outputs": [],
   "source": [
    "model = Sequential()\n",
    "\n",
    "# First Layer of CNN is \"Convulational Layer\"\n",
    "\n",
    "# Generally the \"number of Filter\" and the \"kernel size\" is taken in the multiple of 2\n",
    "# In our case as the CIFAR-10 dataset is a bit more complex than MNIST dataset, so we'll take the \n",
    "# multiple convulational and pooling layers having-\n",
    "    # filters as 32\n",
    "    # Grid/Kernel_size as 4*4\n",
    "    # Stride as (1,1)\n",
    "# Generally filters amount are also expanded with each convulational layer but in our case we'll it as same\n",
    "# We'll not be needing any padding as the our image size is 32 and hence when we divide the image size with the grid\n",
    "# 32/4, we get proper whole integer as 8\n",
    "# If we would have been getting the value in points then we could have added padding as \"same\"\n",
    "# The \"same\" criteria of padding would have dealt with extra values\n",
    "# In our case the default \"valid\" is fine as it doesnt apply padding\n",
    "# and keeps the image as it is\n",
    "\n",
    "# \"Input_shape\" is the shape of the image. In our case its (32,32,3) i.e width, Height, One color Channel\n",
    "# Convulational Layer --------- 1\n",
    "\n",
    "model.add(Conv2D(filters=32, kernel_size=(4,4), strides=(1,1), padding='valid', input_shape=(32,32,3), activation=\"relu\"))\n",
    "\n",
    "\n",
    "# Second Layer of CNN is \"Pool Layer\"\n",
    "\n",
    "# We have taken Pool size as (2,2). It is also the default size.\n",
    "# In our case it is also the half of the grid size\n",
    "# We can also add strides and padding in the pool layer as well\n",
    "\n",
    "# Pool Layer --------- 1\n",
    "\n",
    "model.add(MaxPool2D(pool_size=(2, 2)))\n",
    "\n",
    "\n",
    "# Convulational Layer --------- 2\n",
    "\n",
    "model.add(Conv2D(filters=32, kernel_size=(4,4), strides=(1,1), padding='valid', input_shape=(32,32,3), activation=\"relu\"))\n",
    "\n",
    "# Pool Layer --------- 2\n",
    "\n",
    "model.add(MaxPool2D(pool_size=(2, 2)))\n",
    "\n",
    "\n",
    "# We can add multiple convulational and pool layers according to the complexity of data\n",
    "\n",
    "\n",
    "# Third step is to flatten the images\n",
    "\n",
    "\n",
    "# This means we have to convert the grid of the images into a single array\n",
    "# i.e. grid of 32*32*3 has to be converted to array of 3072 (32*32*3=3072) in our case\n",
    "\n",
    "model.add(Flatten())\n",
    "\n",
    "\n",
    "# Fourth Layer of CNN is \"Dense Layer\"\n",
    "\n",
    "\n",
    "# We can add multiple dense layers as per the complexity of the dataset\n",
    "# Dense layer should generally be equal to flatten array i.e. in our case is 3072 (32*32*3=3072)\n",
    "# But for now we'll add only one dense layer with 256 neurons which are more than the MNIST dataset\n",
    "# But it is required as this model is using color images\n",
    "\n",
    "model.add(Dense(256,activation=\"relu\"))\n",
    "\n",
    "\n",
    "# Fifth Layer of CNN is \"Output Layer\". It will be a dense layer\n",
    "\n",
    "\n",
    "# The layer will have one neuron per class for the classification\n",
    "# That's why In our case it will be 10 neurons in the final layer\n",
    "# We'll use the softmax function as the activation function as we have multiclass classification problem\n",
    "\n",
    "model.add(Dense(10, activation=\"softmax\"))\n",
    "\n",
    "\n",
    "# Final Step is to compile the model\n",
    "# Loss parameter is generally taken as \"categorical_crossentropy\" for the classification problem\n",
    "# optimizer is \"adam\"\n",
    "# We can also add metrics. More documentation in relation to metrics can be found at \"keras.io/metrics\"\n",
    "\n",
    "model.compile(loss=\"categorical_crossentropy\", optimizer=\"adam\", metrics=[\"accuracy\"])"
   ]
  },
  {
   "cell_type": "markdown",
   "metadata": {},
   "source": [
    "## In the above cells there are 2 types of Hyperparameters- Changeable and Un-changeable\n",
    "\n",
    "#### Un-Changeable\n",
    "\n",
    "The parameters which are fixed and should be determine on the basis of your dataset are as follows:\n",
    "\n",
    "1. model.add(Conv2D(filters=32, kernel_size=(4,4), strides=(1,1), padding='valid',<font color=\"green\"> input_shape=(32,32,3) </font>, activation=\"relu\"))\n",
    "\n",
    "2. <font color=\"green\">model.add(Flatten())</font>\n",
    "\n",
    "3. <font color=\"green\">model.add(Dense(10, activation=\"softmax\"))</font>\n",
    "\n",
    "These are all <font color=\"cyan\"> HYPERPARAMETERS</font> based on your data. <font color=\"cyan\">There is correct value for them</font>\n",
    "\n",
    "\n",
    "#### Changeable\n",
    "\n",
    "1. <font color=\"green\"> model.add(Conv2D(filters=32, kernel_size=(4,4), strides=(1,1)</font>, padding='valid', input_shape=(32,32,3) , <font color=\"green\">activation=\"relu\"</font>))\n",
    "\n",
    "2. <font color=\"green\">model.add(Dense(256,activation=\"relu\"))</font>\n",
    "\n",
    "These are <font color=\"cyan\"> HYPERPARAMETERS you can experiment with</font>"
   ]
  },
  {
   "cell_type": "code",
   "execution_count": 25,
   "metadata": {},
   "outputs": [
    {
     "name": "stdout",
     "output_type": "stream",
     "text": [
      "Model: \"sequential\"\n",
      "_________________________________________________________________\n",
      "Layer (type)                 Output Shape              Param #   \n",
      "=================================================================\n",
      "conv2d (Conv2D)              (None, 29, 29, 32)        1568      \n",
      "_________________________________________________________________\n",
      "max_pooling2d (MaxPooling2D) (None, 14, 14, 32)        0         \n",
      "_________________________________________________________________\n",
      "conv2d_1 (Conv2D)            (None, 11, 11, 32)        16416     \n",
      "_________________________________________________________________\n",
      "max_pooling2d_1 (MaxPooling2 (None, 5, 5, 32)          0         \n",
      "_________________________________________________________________\n",
      "flatten (Flatten)            (None, 800)               0         \n",
      "_________________________________________________________________\n",
      "dense (Dense)                (None, 256)               205056    \n",
      "_________________________________________________________________\n",
      "dense_1 (Dense)              (None, 10)                2570      \n",
      "=================================================================\n",
      "Total params: 225,610\n",
      "Trainable params: 225,610\n",
      "Non-trainable params: 0\n",
      "_________________________________________________________________\n"
     ]
    }
   ],
   "source": [
    "# To see the summary of the model\n",
    "model.summary()"
   ]
  },
  {
   "cell_type": "code",
   "execution_count": 26,
   "metadata": {},
   "outputs": [],
   "source": [
    "# Training the Model with \"early stopping call back\" so that we dont have to choose the number of epochs\n",
    "\n",
    "from tensorflow.keras.callbacks import EarlyStopping"
   ]
  },
  {
   "cell_type": "code",
   "execution_count": 27,
   "metadata": {},
   "outputs": [],
   "source": [
    "# making the instance of \"EarlyStopping\"\n",
    "\n",
    "# By default the monitor value is \"Validation loss\", we can also take the monitor value as \"validation accuracy\" \n",
    "# as we have given the metrics as \"accuracy\" during the model compilation\n",
    "\n",
    "# Setting patience as 1. It will wait for 1 epoch to go up from the lowest validation loss level and\n",
    "# then will stop the model\n",
    "\n",
    "early_stop = EarlyStopping(monitor=\"val_loss\", patience=2)"
   ]
  },
  {
   "cell_type": "code",
   "execution_count": 28,
   "metadata": {},
   "outputs": [
    {
     "name": "stdout",
     "output_type": "stream",
     "text": [
      "Epoch 1/15\n",
      "1563/1563 [==============================] - 50s 32ms/step - loss: 1.4885 - accuracy: 0.4584 - val_loss: 1.2539 - val_accuracy: 0.5504\n",
      "Epoch 2/15\n",
      "1563/1563 [==============================] - 52s 33ms/step - loss: 1.1667 - accuracy: 0.5883 - val_loss: 1.1192 - val_accuracy: 0.6092\n",
      "Epoch 3/15\n",
      "1563/1563 [==============================] - 51s 33ms/step - loss: 1.0183 - accuracy: 0.6432 - val_loss: 1.0338 - val_accuracy: 0.6421\n",
      "Epoch 4/15\n",
      "1563/1563 [==============================] - 51s 33ms/step - loss: 0.9206 - accuracy: 0.6784 - val_loss: 0.9584 - val_accuracy: 0.6667\n",
      "Epoch 5/15\n",
      "1563/1563 [==============================] - 53s 34ms/step - loss: 0.8352 - accuracy: 0.7076 - val_loss: 0.9544 - val_accuracy: 0.6690\n",
      "Epoch 6/15\n",
      "1563/1563 [==============================] - 53s 34ms/step - loss: 0.7645 - accuracy: 0.7327 - val_loss: 0.9668 - val_accuracy: 0.6688\n",
      "Epoch 7/15\n",
      "1563/1563 [==============================] - 52s 33ms/step - loss: 0.6958 - accuracy: 0.7562 - val_loss: 0.9627 - val_accuracy: 0.6807\n"
     ]
    },
    {
     "data": {
      "text/plain": [
       "<tensorflow.python.keras.callbacks.History at 0x1e364f81ec8>"
      ]
     },
     "execution_count": 28,
     "metadata": {},
     "output_type": "execute_result"
    }
   ],
   "source": [
    "# Training the model\n",
    "\n",
    "model.fit(X_train,y_cat_train, epochs = 15, \n",
    "          validation_data = (X_test, y_cat_test),\n",
    "          callbacks = [early_stop])"
   ]
  },
  {
   "cell_type": "markdown",
   "metadata": {},
   "source": [
    "## <font color=\"red\"> Evaluating the Model </font>"
   ]
  },
  {
   "cell_type": "code",
   "execution_count": 30,
   "metadata": {},
   "outputs": [
    {
     "data": {
      "text/html": [
       "<div>\n",
       "<style scoped>\n",
       "    .dataframe tbody tr th:only-of-type {\n",
       "        vertical-align: middle;\n",
       "    }\n",
       "\n",
       "    .dataframe tbody tr th {\n",
       "        vertical-align: top;\n",
       "    }\n",
       "\n",
       "    .dataframe thead th {\n",
       "        text-align: right;\n",
       "    }\n",
       "</style>\n",
       "<table border=\"1\" class=\"dataframe\">\n",
       "  <thead>\n",
       "    <tr style=\"text-align: right;\">\n",
       "      <th></th>\n",
       "      <th>loss</th>\n",
       "      <th>accuracy</th>\n",
       "      <th>val_loss</th>\n",
       "      <th>val_accuracy</th>\n",
       "    </tr>\n",
       "  </thead>\n",
       "  <tbody>\n",
       "    <tr>\n",
       "      <th>0</th>\n",
       "      <td>1.488514</td>\n",
       "      <td>0.45844</td>\n",
       "      <td>1.253864</td>\n",
       "      <td>0.5504</td>\n",
       "    </tr>\n",
       "    <tr>\n",
       "      <th>1</th>\n",
       "      <td>1.166725</td>\n",
       "      <td>0.58834</td>\n",
       "      <td>1.119160</td>\n",
       "      <td>0.6092</td>\n",
       "    </tr>\n",
       "    <tr>\n",
       "      <th>2</th>\n",
       "      <td>1.018261</td>\n",
       "      <td>0.64316</td>\n",
       "      <td>1.033848</td>\n",
       "      <td>0.6421</td>\n",
       "    </tr>\n",
       "    <tr>\n",
       "      <th>3</th>\n",
       "      <td>0.920606</td>\n",
       "      <td>0.67836</td>\n",
       "      <td>0.958413</td>\n",
       "      <td>0.6667</td>\n",
       "    </tr>\n",
       "    <tr>\n",
       "      <th>4</th>\n",
       "      <td>0.835229</td>\n",
       "      <td>0.70758</td>\n",
       "      <td>0.954446</td>\n",
       "      <td>0.6690</td>\n",
       "    </tr>\n",
       "    <tr>\n",
       "      <th>5</th>\n",
       "      <td>0.764531</td>\n",
       "      <td>0.73274</td>\n",
       "      <td>0.966785</td>\n",
       "      <td>0.6688</td>\n",
       "    </tr>\n",
       "    <tr>\n",
       "      <th>6</th>\n",
       "      <td>0.695801</td>\n",
       "      <td>0.75622</td>\n",
       "      <td>0.962731</td>\n",
       "      <td>0.6807</td>\n",
       "    </tr>\n",
       "  </tbody>\n",
       "</table>\n",
       "</div>"
      ],
      "text/plain": [
       "       loss  accuracy  val_loss  val_accuracy\n",
       "0  1.488514   0.45844  1.253864        0.5504\n",
       "1  1.166725   0.58834  1.119160        0.6092\n",
       "2  1.018261   0.64316  1.033848        0.6421\n",
       "3  0.920606   0.67836  0.958413        0.6667\n",
       "4  0.835229   0.70758  0.954446        0.6690\n",
       "5  0.764531   0.73274  0.966785        0.6688\n",
       "6  0.695801   0.75622  0.962731        0.6807"
      ]
     },
     "execution_count": 30,
     "metadata": {},
     "output_type": "execute_result"
    }
   ],
   "source": [
    "metrics = pd.DataFrame(model.history.history)\n",
    "metrics"
   ]
  },
  {
   "cell_type": "code",
   "execution_count": 31,
   "metadata": {},
   "outputs": [
    {
     "data": {
      "text/plain": [
       "<AxesSubplot:>"
      ]
     },
     "execution_count": 31,
     "metadata": {},
     "output_type": "execute_result"
    },
    {
     "data": {
      "image/png": "[encoded data removed]",
      "text/plain": [
       "<Figure size 432x288 with 1 Axes>"
      ]
     },
     "metadata": {
      "needs_background": "light"
     },
     "output_type": "display_data"
    }
   ],
   "source": [
    "metrics[[\"loss\",\"val_loss\"]].plot()"
   ]
  },
  {
   "cell_type": "code",
   "execution_count": 32,
   "metadata": {},
   "outputs": [
    {
     "data": {
      "text/plain": [
       "<AxesSubplot:>"
      ]
     },
     "execution_count": 32,
     "metadata": {},
     "output_type": "execute_result"
    },
    {
     "data": {
      "image/png": "[encoded data removed]",
      "text/plain": [
       "<Figure size 432x288 with 1 Axes>"
      ]
     },
     "metadata": {
      "needs_background": "light"
     },
     "output_type": "display_data"
    }
   ],
   "source": [
    "metrics[[\"accuracy\",\"val_accuracy\"]].plot()"
   ]
  },
  {
   "cell_type": "code",
   "execution_count": 43,
   "metadata": {},
   "outputs": [
    {
     "data": {
      "text/plain": [
       "['loss', 'accuracy']"
      ]
     },
     "execution_count": 43,
     "metadata": {},
     "output_type": "execute_result"
    }
   ],
   "source": [
    "# To know metrices available in the model\n",
    "\n",
    "model.metrics_names"
   ]
  },
  {
   "cell_type": "code",
   "execution_count": 33,
   "metadata": {},
   "outputs": [
    {
     "data": {
      "text/plain": [
       "[0.9627313613891602, 0.6807000041007996]"
      ]
     },
     "execution_count": 33,
     "metadata": {},
     "output_type": "execute_result"
    }
   ],
   "source": [
    "# Evaluating the model for the validation test\n",
    "\n",
    "# First index in the list will be loss and the second index will be the accuracy of the validation test\n",
    "\n",
    "# It shows[validation loss, validation accuracy]\n",
    "\n",
    "model.evaluate(X_test, y_cat_test, verbose = 0)"
   ]
  },
  {
   "cell_type": "code",
   "execution_count": 34,
   "metadata": {},
   "outputs": [],
   "source": [
    "# Getting the predictions\n",
    "\n",
    "from sklearn.metrics import classification_report, confusion_matrix"
   ]
  },
  {
   "cell_type": "code",
   "execution_count": 35,
   "metadata": {},
   "outputs": [
    {
     "name": "stdout",
     "output_type": "stream",
     "text": [
      "WARNING:tensorflow:From <ipython-input-35-0f0febf1cd77>:2: Sequential.predict_classes (from tensorflow.python.keras.engine.sequential) is deprecated and will be removed after 2021-01-01.\n",
      "Instructions for updating:\n",
      "Please use instead:* `np.argmax(model.predict(x), axis=-1)`,   if your model does multi-class classification   (e.g. if it uses a `softmax` last-layer activation).* `(model.predict(x) > 0.5).astype(\"int32\")`,   if your model does binary classification   (e.g. if it uses a `sigmoid` last-layer activation).\n"
     ]
    }
   ],
   "source": [
    "# \"Predict_classes\" will be used in our case as this is the multi classification problem\n",
    "predictions = model.predict_classes(X_test)"
   ]
  },
  {
   "cell_type": "code",
   "execution_count": 36,
   "metadata": {},
   "outputs": [
    {
     "data": {
      "text/plain": [
       "(10000, 10)"
      ]
     },
     "execution_count": 36,
     "metadata": {},
     "output_type": "execute_result"
    }
   ],
   "source": [
    "y_cat_test.shape"
   ]
  },
  {
   "cell_type": "code",
   "execution_count": 37,
   "metadata": {},
   "outputs": [
    {
     "data": {
      "text/plain": [
       "array([[3],\n",
       "       [8],\n",
       "       [8],\n",
       "       ...,\n",
       "       [5],\n",
       "       [1],\n",
       "       [7]], dtype=uint8)"
      ]
     },
     "execution_count": 37,
     "metadata": {},
     "output_type": "execute_result"
    }
   ],
   "source": [
    "# we need to compare the predictions of the model to the actual labels\n",
    "# i.e. instead of \"y_cat_test\", we'll compare it to y_test\n",
    "# We dont have any longer need to use the classification ones as the model is already made\n",
    "\n",
    "y_test"
   ]
  },
  {
   "cell_type": "code",
   "execution_count": 38,
   "metadata": {},
   "outputs": [
    {
     "name": "stdout",
     "output_type": "stream",
     "text": [
      "              precision    recall  f1-score   support\n",
      "\n",
      "           0       0.73      0.75      0.74      1000\n",
      "           1       0.81      0.80      0.81      1000\n",
      "           2       0.52      0.63      0.57      1000\n",
      "           3       0.49      0.49      0.49      1000\n",
      "           4       0.65      0.67      0.66      1000\n",
      "           5       0.54      0.61      0.57      1000\n",
      "           6       0.72      0.78      0.75      1000\n",
      "           7       0.87      0.56      0.68      1000\n",
      "           8       0.83      0.77      0.80      1000\n",
      "           9       0.79      0.74      0.77      1000\n",
      "\n",
      "    accuracy                           0.68     10000\n",
      "   macro avg       0.69      0.68      0.68     10000\n",
      "weighted avg       0.69      0.68      0.68     10000\n",
      "\n"
     ]
    }
   ],
   "source": [
    "# Comparing the true \"y_test\" values with our predicted values \"predictions = model.predict_classes(X_test)\"\n",
    "\n",
    "print(classification_report(y_test, predictions))"
   ]
  },
  {
   "cell_type": "code",
   "execution_count": 39,
   "metadata": {},
   "outputs": [
    {
     "data": {
      "text/plain": [
       "array([[750,  24,  62,  24,  17,  14,  14,   4,  59,  32],\n",
       "       [ 22, 799,  31,  12,   6,   5,  23,   1,  28,  73],\n",
       "       [ 64,   4, 628,  58,  80,  63,  69,  13,  13,   8],\n",
       "       [ 18,  12, 117, 494,  63, 202,  69,   5,   7,  13],\n",
       "       [ 22,   2, 101,  68, 667,  51,  47,  25,  14,   3],\n",
       "       [ 11,   1,  91, 163,  44, 615,  37,  28,   2,   8],\n",
       "       [  5,   2,  70,  65,  44,  27, 777,   2,   3,   5],\n",
       "       [ 20,   4,  64,  74,  99, 133,  14, 564,   2,  26],\n",
       "       [ 82,  41,  27,  24,   7,  13,   8,   1, 772,  25],\n",
       "       [ 31,  93,  25,  27,   5,  21,  15,   7,  35, 741]], dtype=int64)"
      ]
     },
     "execution_count": 39,
     "metadata": {},
     "output_type": "execute_result"
    }
   ],
   "source": [
    "confusion_matrix(y_test, predictions)"
   ]
  },
  {
   "cell_type": "code",
   "execution_count": 40,
   "metadata": {},
   "outputs": [
    {
     "data": {
      "text/plain": [
       "<AxesSubplot:>"
      ]
     },
     "execution_count": 40,
     "metadata": {},
     "output_type": "execute_result"
    },
    {
     "data": {
      "image/png": "[encoded data removed]",
      "text/plain": [
       "<Figure size 864x720 with 2 Axes>"
      ]
     },
     "metadata": {
      "needs_background": "light"
     },
     "output_type": "display_data"
    }
   ],
   "source": [
    "# To visualize the confusion matrix\n",
    "\n",
    "import seaborn as sns\n",
    "\n",
    "plt.figure(figsize=(12,10))\n",
    "sns.heatmap(confusion_matrix(y_test, predictions), annot=True)"
   ]
  },
  {
   "cell_type": "code",
   "execution_count": 42,
   "metadata": {},
   "outputs": [
    {
     "data": {
      "text/plain": [
       "<matplotlib.image.AxesImage at 0x1e3a0d91308>"
      ]
     },
     "execution_count": 42,
     "metadata": {},
     "output_type": "execute_result"
    },
    {
     "data": {
      "image/png": "[encoded data removed]",
      "text/plain": [
       "<Figure size 432x288 with 1 Axes>"
      ]
     },
     "metadata": {
      "needs_background": "light"
     },
     "output_type": "display_data"
    }
   ],
   "source": [
    "# To see the prediction\n",
    "\n",
    "my_img = X_test[0]\n",
    "\n",
    "plt.imshow(my_img)"
   ]
  },
  {
   "cell_type": "code",
   "execution_count": 43,
   "metadata": {},
   "outputs": [
    {
     "data": {
      "text/plain": [
       "array([3], dtype=uint8)"
      ]
     },
     "execution_count": 43,
     "metadata": {},
     "output_type": "execute_result"
    }
   ],
   "source": [
    "# To know actually which images is this, as we are unable to see clearly\n",
    "\n",
    "y_test[0]"
   ]
  },
  {
   "cell_type": "code",
   "execution_count": null,
   "metadata": {},
   "outputs": [],
   "source": [
    "# The actual answer is the image is of Cat. As, we can verify the labels of the CIFAR-10 dataset on the google\n",
    "# And label 3 is of Cat"
   ]
  },
  {
   "cell_type": "code",
   "execution_count": 44,
   "metadata": {},
   "outputs": [
    {
     "data": {
      "text/plain": [
       "(32, 32, 3)"
      ]
     },
     "execution_count": 44,
     "metadata": {},
     "output_type": "execute_result"
    }
   ],
   "source": [
    "X_test[0].shape"
   ]
  },
  {
   "cell_type": "code",
   "execution_count": 45,
   "metadata": {},
   "outputs": [
    {
     "data": {
      "text/plain": [
       "array([3], dtype=int64)"
      ]
     },
     "execution_count": 45,
     "metadata": {},
     "output_type": "execute_result"
    }
   ],
   "source": [
    "# Converting the image in the below written shape\n",
    "# number of images, width, height, color channels\n",
    "# feeding it into the model\n",
    "\n",
    "model.predict_classes(my_img.reshape(1,32,32,3))"
   ]
  },
  {
   "cell_type": "code",
   "execution_count": null,
   "metadata": {},
   "outputs": [],
   "source": []
  },
  {
   "cell_type": "code",
   "execution_count": 55,
   "metadata": {},
   "outputs": [],
   "source": [
    "# Predicted the picture as Cat. Hence the model is successful"
   ]
  },
  {
   "cell_type": "code",
   "execution_count": 56,
   "metadata": {},
   "outputs": [],
   "source": []
  },
  {
   "cell_type": "markdown",
   "metadata": {},
   "source": [
    "## <font color=\"red\"> Trying the Model on External Images </font>\n",
    "\n",
    "### *--NOT DONE YET FOR THE CIFAR DATASET--*"
   ]
  },
  {
   "cell_type": "markdown",
   "metadata": {},
   "source": [
    "### 1. Trying model on External Images with big sizes than 28*28"
   ]
  },
  {
   "cell_type": "code",
   "execution_count": 59,
   "metadata": {},
   "outputs": [],
   "source": [
    "from PIL import Image"
   ]
  },
  {
   "cell_type": "code",
   "execution_count": 318,
   "metadata": {},
   "outputs": [],
   "source": [
    "# Opening the image\n",
    "img = Image.open(r\"C:\\Users\\iprak\\Desktop\\exam.png\")\n",
    "# convert the image to grayscale\n",
    "img = img.convert(mode='L')\n",
    "\n",
    "# Saving new image\n",
    "img.save(r'C:\\Users\\iprak\\Desktop\\grayscale_converted.jpg')\n"
   ]
  },
  {
   "cell_type": "code",
   "execution_count": 319,
   "metadata": {},
   "outputs": [
    {
     "name": "stdout",
     "output_type": "stream",
     "text": [
      "(600, 600)\n"
     ]
    }
   ],
   "source": [
    "# Loading Grayscale Image\n",
    "img_conv = Image.open(r\"C:\\Users\\iprak\\Desktop\\grayscale_converted.jpg\")\n",
    "\n",
    "# report the size of the image\n",
    "print(img_conv.size)"
   ]
  },
  {
   "cell_type": "code",
   "execution_count": 320,
   "metadata": {},
   "outputs": [
    {
     "name": "stdout",
     "output_type": "stream",
     "text": [
      "(28, 28)\n"
     ]
    }
   ],
   "source": [
    "# resize image and ignore original aspect ratio\n",
    "img_resized = img_conv.resize((28,28))\n",
    "\n",
    "# report the size of the thumbnail\n",
    "print(img_resized.size)\n",
    "\n",
    "# Saving new image\n",
    "img_resized.save(r'C:\\Users\\iprak\\Desktop\\grayscale_converted_compressed.jpg')"
   ]
  },
  {
   "cell_type": "code",
   "execution_count": 321,
   "metadata": {},
   "outputs": [],
   "source": [
    "# Loading Compressed Image\n",
    "img_example = Image.open(r\"C:\\Users\\iprak\\Desktop\\grayscale_converted_compressed.jpg\")"
   ]
  },
  {
   "cell_type": "code",
   "execution_count": 322,
   "metadata": {},
   "outputs": [
    {
     "data": {
      "text/plain": [
       "(28, 28)"
      ]
     },
     "execution_count": 322,
     "metadata": {},
     "output_type": "execute_result"
    }
   ],
   "source": [
    "# convert image to numpy array\n",
    "data_example = np.asarray(img_example)\n",
    "data_example.shape"
   ]
  },
  {
   "cell_type": "code",
   "execution_count": 323,
   "metadata": {},
   "outputs": [
    {
     "data": {
      "text/plain": [
       "(1, 28, 28, 1)"
      ]
     },
     "execution_count": 323,
     "metadata": {},
     "output_type": "execute_result"
    }
   ],
   "source": [
    "# Reshaping image as taken by the model\n",
    "data_reshape_example = data_example.reshape(1,28,28,1)\n",
    "\n",
    "# To see new shape\n",
    "data_reshape_example.shape"
   ]
  },
  {
   "cell_type": "code",
   "execution_count": 324,
   "metadata": {},
   "outputs": [
    {
     "data": {
      "text/plain": [
       "array([9], dtype=int64)"
      ]
     },
     "execution_count": 324,
     "metadata": {},
     "output_type": "execute_result"
    }
   ],
   "source": [
    "# Predicting the number\n",
    "model.predict_classes(data_reshape_example)"
   ]
  },
  {
   "cell_type": "code",
   "execution_count": null,
   "metadata": {},
   "outputs": [],
   "source": []
  },
  {
   "cell_type": "code",
   "execution_count": 326,
   "metadata": {},
   "outputs": [],
   "source": [
    "# Saving the model\n",
    "model.save('CNN_on_MNIST.h5')"
   ]
  },
  {
   "cell_type": "code",
   "execution_count": null,
   "metadata": {},
   "outputs": [],
   "source": []
  },
  {
   "cell_type": "markdown",
   "metadata": {},
   "source": [
    "### 2. Trying model on images with the size of 28*28"
   ]
  },
  {
   "cell_type": "code",
   "execution_count": 190,
   "metadata": {},
   "outputs": [
    {
     "name": "stdout",
     "output_type": "stream",
     "text": [
      "(28, 28)\n"
     ]
    },
    {
     "data": {
      "text/plain": [
       "<matplotlib.image.AxesImage at 0x1e061a2ae08>"
      ]
     },
     "execution_count": 190,
     "metadata": {},
     "output_type": "execute_result"
    },
    {
     "data": {
      "image/png": "[encoded data removed]",
      "text/plain": [
       "<Figure size 432x288 with 1 Axes>"
      ]
     },
     "metadata": {
      "needs_background": "light"
     },
     "output_type": "display_data"
    }
   ],
   "source": [
    "# Reading Image\n",
    "\n",
    "a = plt.imread(r\"C:\\Users\\iprak\\Desktop\\Two_1.png\")\n",
    "print(a.shape)\n",
    "plt.imshow(a)"
   ]
  },
  {
   "cell_type": "code",
   "execution_count": 191,
   "metadata": {},
   "outputs": [
    {
     "name": "stdout",
     "output_type": "stream",
     "text": [
      "(1, 28, 28, 1)\n"
     ]
    },
    {
     "data": {
      "text/plain": [
       "array([2], dtype=int64)"
      ]
     },
     "execution_count": 191,
     "metadata": {},
     "output_type": "execute_result"
    }
   ],
   "source": [
    "# Converting image into a numpy array\n",
    "a_a = np.asarray(a)\n",
    "\n",
    "# reshaping image as taken by the model\n",
    "a_b = two_a.reshape(1,28,28,1)\n",
    "print(a_b.shape)\n",
    "\n",
    "# Predicting the number\n",
    "model.predict_classes(a_b)"
   ]
  },
  {
   "cell_type": "code",
   "execution_count": null,
   "metadata": {
    "collapsed": true
   },
   "outputs": [],
   "source": []
  },
  {
   "cell_type": "markdown",
   "metadata": {},
   "source": [
    "### <font color=\"Magenta\">Note: The model is working on external pictures. But Not Perfect</font>"
   ]
  },
  {
   "cell_type": "code",
   "execution_count": null,
   "metadata": {},
   "outputs": [],
   "source": []
  }
 ],
 "metadata": {
  "kernelspec": {
   "display_name": "Python 3",
   "language": "python",
   "name": "python3"
  },
  "language_info": {
   "codemirror_mode": {
    "name": "ipython",
    "version": 3
   },
   "file_extension": ".py",
   "mimetype": "text/x-python",
   "name": "python",
   "nbconvert_exporter": "python",
   "pygments_lexer": "ipython3",
   "version": "3.7.6"
  }
 },
 "nbformat": 4,
 "nbformat_minor": 4
}
